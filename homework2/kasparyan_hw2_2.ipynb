{
 "cells": [
  {
   "cell_type": "markdown",
   "metadata": {},
   "source": [
    "# Алгоритмы интеллектуальной обработки больших объемов данных\n",
    "## Домашнее задание №2: Линейные модели\n"
   ]
  },
  {
   "cell_type": "markdown",
   "metadata": {},
   "source": [
    "###### <hr\\>\n",
    "**Общая информация**\n",
    "\n",
    "**Срок сдачи:** 09 ноября 18:00 Сдача **очная** на онлайн занятии. <br\\>\n",
    "\n",
    "\n",
    "Используйте данный Ipython Notebook при оформлении домашнего задания.\n",
    "\n",
    "Присылать ДЗ необходимо в виде ссылки на свой github репозиторий на почту ml1.sphere@mail.ru с указанием темы в следующем формате:\n",
    "\n",
    "[ML0920, Задание 2] Фамилия Имя.\n",
    "\n",
    "\n",
    "\n",
    "**Штрафные баллы:**\n",
    "\n",
    "1. Невыполнение PEP8 -1 балл\n",
    "2. Отсутствие фамилии в имени скрипта (скрипт должен называться по аналогии со stroykova_hw2.ipynb) -1 балл\n",
    "3. Все строчки должны быть выполнены. Нужно, чтобы output команды можно было увидеть уже в git'е. В противном случае -1 балл\n",
    "4. При оформлении ДЗ нужно пользоваться данным файлом в качестве шаблона. Не нужно удалять и видоизменять написанный код и текст, если явно не указана такая возможность. В противном случае -1 балл\n",
    "<hr\\>"
   ]
  },
  {
   "cell_type": "code",
   "execution_count": 1,
   "metadata": {},
   "outputs": [],
   "source": [
    "import pandas as pd\n",
    "import numpy as np\n",
    "import matplotlib.pyplot as plt\n",
    "\n",
    "%matplotlib inline\n",
    "\n",
    "plt.style.use('ggplot')\n",
    "plt.rcParams['figure.figsize'] = (12,5)"
   ]
  },
  {
   "cell_type": "markdown",
   "metadata": {},
   "source": [
    "Здравствуйте, уважаемые студенты! \n",
    "\n",
    "В этом задании мы будем реализовать линейные модели. Необходимо реализовать линейную и логистическую регрессии с L2 регуляризацией"
   ]
  },
  {
   "cell_type": "markdown",
   "metadata": {},
   "source": [
    "# Теоретическое введение\n",
    "\n"
   ]
  },
  {
   "cell_type": "markdown",
   "metadata": {},
   "source": [
    "Линейная регрессия решает задачу регрессии и оптимизирует функцию потерь MSE \n",
    "\n",
    "$$L(w) =  \\frac{1}{N}\\left[\\sum_i (y_i - a_i) ^ 2 \\right], $$ где $y_i$ $-$ целевая функция,  $a_i = a(x_i) =  \\langle\\,x_i,w\\rangle ,$ $-$ предсказание алгоритма на объекте $x_i$, $w$ $-$ вектор весов (размерности $D$), $x_i$ $-$ вектор признаков (такой же размерности $D$).\n",
    "\n",
    "Не забываем, что здесь и далее  мы считаем, что в $x_i$ есть тождественный вектор единиц, ему соответствует вес $w_0$.\n"
   ]
  },
  {
   "cell_type": "markdown",
   "metadata": {},
   "source": [
    "Логистическая регрессия является линейным классификатором, который оптимизирует так называемый функционал log loss:"
   ]
  },
  {
   "cell_type": "markdown",
   "metadata": {},
   "source": [
    "$$L(w) = - \\frac{1}{N}\\left[\\sum_i y_i \\log a_i + ( 1 - y_i) \\log (1 - a_i) \\right],$$\n",
    "где  $y_i  \\in \\{0,1\\}$ $-$ метка класса, $a_i$ $-$ предсказание алгоритма на объекте $x_i$. Модель пытается предсказать апостериорую вероятность объекта принадлежать к классу \"1\":\n",
    "$$ p(y_i = 1 | x_i) = a(x_i) =  \\sigma( \\langle\\,x_i,w\\rangle ),$$\n",
    "$w$ $-$ вектор весов (размерности $D$), $x_i$ $-$ вектор признаков (такой же размерности $D$).\n",
    "\n",
    "Функция $\\sigma(x)$ $-$ нелинейная функция, пероводящее скалярное произведение объекта на веса в число $\\in (0,1)$ (мы же моделируем вероятность все-таки!)\n",
    "\n",
    "$$\\sigma(x) = \\frac{1}{1 + \\exp(-x)}$$\n",
    "\n",
    "Если внимательно посмотреть на функцию потерь, то можно заметить, что в зависимости от правильного ответа алгоритм штрафуется или функцией $-\\log a_i$, или функцией $-\\log (1 - a_i)$.\n",
    "\n"
   ]
  },
  {
   "cell_type": "markdown",
   "metadata": {},
   "source": [
    "Часто для решения проблем, которые так или иначе связаны с проблемой переобучения, в функционал качества добавляют слагаемое, которое называют ***регуляризацией***. Итоговый функционал для линейной регрессии тогда принимает вид:\n",
    "\n",
    "$$L(w) =  \\frac{1}{N}\\left[\\sum_i (y_i - a_i) ^ 2 \\right] + \\frac{1}{C}R(w) $$\n",
    "\n",
    "Для логистической: \n",
    "$$L(w) = - \\frac{1}{N}\\left[\\sum_i y_i \\log a_i + ( 1 - y_i) \\log (1 - a_i) \\right] +  \\frac{1}{C}R(w)$$\n",
    "\n",
    "Самое понятие регуляризации введено основателем ВМК академиком Тихоновым https://ru.wikipedia.org/wiki/Метод_регуляризации_Тихонова\n",
    "\n",
    "Идейно методика регуляризации заключается в следующем $-$ мы рассматриваем некорректно поставленную задачу (что это такое можно найти в интернете), для того чтобы сузить набор различных вариантов (лучшие из которых будут являться переобучением ) мы вводим дополнительные ограничения на множество искомых решений. На лекции Вы уже рассмотрели два варианта регуляризации.\n",
    "\n",
    "$L1$ регуляризация:\n",
    "$$R(w) = \\sum_{j=1}^{D}|w_j|$$\n",
    "$L2$ регуляризация:\n",
    "$$R(w) =  \\sum_{j=1}^{D}w_j^2$$\n",
    "\n",
    "С их помощью мы ограничиваем модель в  возможности выбора каких угодно весов минимизирующих наш лосс, модель уже не сможет подстроиться под данные как ей угодно. \n",
    "\n",
    "Вам нужно добавить соотвествущую Вашему варианту $L2$ регуляризацию.\n",
    "\n",
    "И так, мы поняли, какую функцию ошибки будем минимизировать, разобрались, как получить предсказания по объекту и обученным весам. Осталось разобраться, как получить оптимальные веса. Для этого нужно выбрать какой-то метод оптимизации.\n",
    "\n"
   ]
  },
  {
   "cell_type": "markdown",
   "metadata": {},
   "source": [
    "Градиентный спуск является самым популярным алгоритмом обучения линейных моделей. В этом задании Вам предложат реализовать стохастический градиентный спуск или  мини-батч градиентный спуск (мини-батч на русский язык довольно сложно перевести, многие переводят это как \"пакетный\", но мне не кажется этот перевод удачным). Далее нам потребуется определение **эпохи**.\n",
    "Эпохой в SGD и MB-GD называется один проход по **всем** объектам в обучающей выборки.\n",
    "* В SGD градиент расчитывается по одному случайному объекту. Сам алгоритм выглядит примерно так:\n",
    "        1) Перемешать выборку\n",
    "        2) Посчитать градиент функции потерь на одном объекте (далее один объект тоже будем называть батчем)\n",
    "        3) Сделать шаг спуска\n",
    "        4) Повторять 2) и 3) пока не пройдет максимальное число эпох.\n",
    "* В Mini Batch SGD - по подвыборке объектов. Сам алгоритм выглядит примерно так::\n",
    "        1) Перемешать выборку, выбрать размер мини-батча (от 1 до размера выборки)\n",
    "        2) Почитать градиент функции потерь по мини-батчу (не забыть поделить на  число объектов в мини-батче)\n",
    "        3) Сделать шаг спуска\n",
    "        4) Повторять 2) и 3) пока не пройдет максимальное число эпох.\n",
    "* Для отладки алгоритма реализуйте возможность  вывода средней ошибки на обучении модели по объектам (мини-батчам). После шага градиентного спуска посчитайте значение ошибки на объекте (или мини-батче), а затем усредните, например, по ста шагам. Если обучение проходит корректно, то мы должны увидеть, что каждые 100 шагов функция потерь уменьшается. \n",
    "* Правило останова - максимальное количество эпох\n",
    "    \n"
   ]
  },
  {
   "cell_type": "markdown",
   "metadata": {},
   "source": [
    "# Теоретические вопросы (2 балла)\n",
    "В этой части Вам будут предложены теоретичские вопросы и задачи по теме. Вы, конечно, можете списать их у своего товарища или найти решение в интернете, но учтите, что они обязательно войдут в теоретический коллоквиум. Лучше разобраться в теме сейчас и успешно ответить на коллоквиуме, чем списать, не разобравшись в материале, и быть терзаемым совестью. \n",
    "\n",
    "\n",
    "Формулы надо оформлять в формате **LaTeX**."
   ]
  },
  {
   "cell_type": "markdown",
   "metadata": {},
   "source": [
    "Задача 1. Градиент для линейной регрессии.\n",
    "* Выпишите формулу обновления весов для линейной регрессии с L2 регуляризацией для мини-батч градиентого спуска размера $n$:\n",
    "\n",
    "$$ w_{new} = w_{old} - ... $$\n",
    "\n",
    " Отнеситесь к этому пункту максимально серьезно, это Вам нужно будет реализовать в задании.\n",
    " \n",
    "Проанализруйте итоговую формулу градиента - как  интуитивно можно  описать, чему равен градиент?"
   ]
  },
  {
   "cell_type": "markdown",
   "metadata": {},
   "source": [
    "***Ваше решение здесь***\n",
    "$$ w_{new}=w_{old}-\\alpha \\nabla _{w}L\\left( \\omega _{old}\\right) $$\n",
    "$$ \\nabla _{w}L\\left( w_{old}\\right) =\\dfrac{1}{N} \\sum ^{N}_{i=1}\\nabla _{w}L\\left( w_{old},x_{i},y_{i}\\right) $$\n",
    "$$ \\nabla _{w}L\\left( w_{old},x_{i},y_{i}\\right) = 2(x_{i} ⋅ w_{old} − y_{i} )x_{i} $$\n",
    "Итоговая формула: \n",
    "$$ w_{new}=w_{old}-\\alpha \\dfrac{2}{N} \\sum ^{N}_{i=1}(x_{i} ⋅ w_{old} − y_{i} )x_{i} - \\dfrac{2 \\alpha w_{old}}{C}$$"
   ]
  },
  {
   "cell_type": "markdown",
   "metadata": {},
   "source": [
    "Задача 2. Градиент для логистической регрессии.\n",
    "* Выпишите формулу обновления весов для логистической регрессии с L2 регуляризацией  для мини-батч градиентого спуска размера $n$:\n",
    "\n",
    "$$ w_{new} = w_{old} - ... $$\n",
    "\n",
    " Отнеситесь к этому пункту максимально серьезно, это Вам нужно будет реализовать в задании.\n",
    " \n",
    "Проанализруйте итоговую формулу градиента - как  интуитивно можно  описать, чему равен градиент? Как соотносится этот градиент с градиентом, возникающий в задаче линейной регрессии?\n",
    "\n",
    "Подсказка: Вам градиент, которой получается если “в лоб” продифференцировать,  надо немного преобразовать.\n",
    "Надо подставить, что $1 - \\sigma(w,x) $ это  $1 - a(x_i)$, а  $-\\sigma(w,x)$ это $0 - a(x_i)$.  Тогда получится свести к одной красивой формуле с линейной регрессией, которую программировать будет намного проще."
   ]
  },
  {
   "cell_type": "markdown",
   "metadata": {},
   "source": [
    "***Ваше решение здесь***\n",
    "$$ a_{i}=\\sigma \\left( \\langle w_{old},x_{i}\\rangle \\right) $$\n",
    "$$ \\nabla L\\left( w_{old},x_{i},y_{i}\\right) = \\dfrac{y_{i}\\sigma ^{'}\\left( \\left( w_{old} ,x_{i}\\right) \\right) }{\\sigma \\left( \\left( w_{old} ,x_{i}\\right) \\right) }+\\dfrac{\\left( 1-y_{i}\\right) \\left( 1-\\sigma \\left( \\left( w_{old} ,x_{i}\\right) \\right) \\right) ^{'}}{1-\\sigma \\left( \\left( w_{old},x_{i}\\right) \\right) } $$\n",
    "$$\\sigma ^{'}=\\sigma -\\sigma ^{2}$$\n",
    "Итоговая формула: \n",
    "$$ w_{new}=w_{old}+\\dfrac{\\alpha }{N}\\sum ^{N}_{i=1}\\left( y_{i}-a_{i}\\right) x_{i} - \\dfrac{2 \\alpha w_{old}}{C}$$"
   ]
  },
  {
   "cell_type": "markdown",
   "metadata": {},
   "source": [
    "Задача 3. Точное решение линейной регрессии\n",
    "\n",
    "На лекции было показано, что точное решение линейной регрессии имеет вид $w = (X^TX)^{-1}X^TY $. \n",
    "* Покажите, что это действительно является точкой минимума в случае, если матрица X имеет строк не меньше, чем столбцов и имеет полный ранг. Подсказка: посчитайте Гессиан и покажите, что в этом случае он положительно определен. \n",
    "* Выпишите точное решение для модели с $L2$ регуляризацией. Как L2 регуляризация помогает с точным решением где матрица X имеет линейно зависимые признаки?"
   ]
  },
  {
   "cell_type": "markdown",
   "metadata": {},
   "source": [
    "***Ваше решение здесь***\n",
    "\n",
    "найдем точное решение\n",
    "$$ \\begin{aligned}\\dfrac{1}{N}\\left\\| Xw-y\\right\\| ^{2}+\\dfrac{\\left\\| w\\right\\| ^{2}}{C}=\\\\ =\n",
    "\\dfrac{1}{N}\\left( Xw-y\\right) ^{T}\\left( Xw-y\\right) +\\dfrac{1}{C}w^{T}w=\\\\ =\\dfrac{1}{N}\\left( w^{T}X^{T}X\\omega -w^{T}X^{T}y-y^{T}Xw+y^{T}y\\right) +\\dfrac{w^{T}w}{C}\\end{aligned} $$\n",
    "\n",
    "$$ \\nabla _{a}L\\left( w\\right) =\\dfrac{1}{N}w\\left( X^{T}X+\\left( X^{T}X\\right) ^{T}\\right) -\\dfrac{2}{N}X^{T}y+\\dfrac{1}{C}\\left( E^{T}+E\\right) w $$\n",
    "\n",
    "$$ \\begin{aligned}\\dfrac{1}{N}\\left( W\\left( X^{T}X + \\left( X^{T}X\\right) ^{T}+\\dfrac{N}{C}E^{T}+\\dfrac{N}{C}E\\right) -2X^{T}y\\right) \\end{aligned} $$\n",
    "\n",
    "$$ \\begin{aligned} \\dfrac{1}{N}\\left( w(2X^{T}X+\\dfrac{NE}{C}\\right) -2X^{T}y) =0\\\\ \\left( X^{T}X+\\dfrac{NE}{C}\\right) W=X^{T}y\\end{aligned} $$\n",
    "\n",
    "Гессиан посчитать не успел("
   ]
  },
  {
   "cell_type": "markdown",
   "metadata": {},
   "source": [
    "Задача 4.  Предсказываем вероятности.\n",
    "\n",
    "Когда говорят о логистической регрессии, произносят фразу, что она \"предсказывает вероятности положительного класса\". Давайте разберемся, что же за этим стоит. Посчитаем математическое ожидание функции потерь и проверим, что предсказание алгоритма, оптимизирующее это мат. ожидание, будет являться вероятностью положительного класса. \n",
    "\n",
    "И так, функция потерь на объекте $x_i$, который имеет метку $y_i \\in \\{0,1\\}$  для предсказания $a(x_i)$ равна:\n",
    "$$L(y_i, b) =-[y_i == 1] \\log a(x_i)  - [y_i == 0] \\log(1 - a(x_i)) $$\n",
    "\n",
    "Где $[]$ означает индикатор $-$ он равен единице, если значение внутри него истинно, иначе он равен нулю. Тогда мат. ожидание при условии конкретного $x_i$  по определение мат. ожидания дискретной случайной величины:\n",
    "$$E(L | x_i) = -p(y_i = 1 |x_i ) \\log a(x_i)  - p(y_i = 0 | x_i) \\log( 1 - a(x_i))$$\n",
    "* Докажите, что значение $a(x_i)$, минимизирующее данное мат. ожидание, в точности равно $p(y_i = 1 |x_i)$, то есть равно вероятности положительного класса.\n",
    "\n",
    "Подсказка: возможно, придется воспользоваться, что  $p(y_i = 1 | x_i) + p(y_i = 0 | x_i) = 1$"
   ]
  },
  {
   "cell_type": "markdown",
   "metadata": {},
   "source": [
    "***Ваше решение здесь***"
   ]
  },
  {
   "cell_type": "markdown",
   "metadata": {},
   "source": [
    "Задача 5.  Смысл регуляризации.\n",
    "\n",
    "Нужно ли в L1/L2 регуляризации использовать свободный член $w_0$ (который не умножается ни на какой признак)?\n",
    "\n",
    "Подсказка: подумайте, для чего мы вводим $w_0$"
   ]
  },
  {
   "cell_type": "markdown",
   "metadata": {},
   "source": [
    "***Ваше решение здесь***\n",
    "\n",
    "Мы добавляли во все вектора из Х дополнительную фичу, которая всегда равна 1, я считаю, что w0 надо использовать в регуляризации, т.к. это то же самое, если бы и у нас не было w0, но у всех векторов была бы фича, равная 1"
   ]
  },
  {
   "cell_type": "markdown",
   "metadata": {},
   "source": [
    "#  Реализация линейной модели (4 балла)"
   ]
  },
  {
   "cell_type": "markdown",
   "metadata": {},
   "source": [
    "## Зачем нужны батчи?\n"
   ]
  },
  {
   "cell_type": "markdown",
   "metadata": {},
   "source": [
    "Как Вы могли заметить из теоретического введения, что в случае SGD, что в случа mini-batch GD,  на каждой итерации обновление весов  происходит только по небольшой части данных (1 пример в случае SGD, batch примеров в случае mini-batch). То есть для каждой итерации нам *** не нужна вся выборка***. Мы можем просто итерироваться по выборке, беря батч нужного размера (далее 1 объект тоже будем называть батчом).\n",
    "\n",
    "Легко заметить, что в этом случае нам не нужно загружать все данные в оперативную память, достаточно просто считать батч с диска, обновить веса, считать диска другой батч и так далее. В целях упрощения домашней работы, прямо с диска  мы считывать не будем, будем работать с обычными numpy array. \n",
    "\n",
    "\n",
    "\n"
   ]
  },
  {
   "cell_type": "markdown",
   "metadata": {},
   "source": [
    "## Немножко про генераторы в Python\n",
    "\n"
   ]
  },
  {
   "cell_type": "markdown",
   "metadata": {},
   "source": [
    "Идея считывания данных кусками удачно ложится на так называемые ***генераторы*** из языка Python. В данной работе Вам предлагается не только разобраться с логистической регрессией, но  и познакомиться с таким важным элементом языка.  При желании Вы можете убрать весь код, связанный с генераторами, и реализовать логистическую регрессию и без них, ***штрафоваться это никак не будет***. Главное, чтобы сама модель была реализована правильно, и все пункты были выполнены. \n",
    "\n",
    "Подробнее можно почитать вот тут https://anandology.com/python-practice-book/iterators.html\n"
   ]
  },
  {
   "cell_type": "markdown",
   "metadata": {},
   "source": [
    "К генератору стоит относиться просто как к функции, которая порождает не один объект, а целую последовательность объектов. Новое значение из последовательности генерируется с помощью ключевого слова ***yield***. Ниже Вы можете насладиться  генератором чисел Фибоначчи."
   ]
  },
  {
   "cell_type": "code",
   "execution_count": 1,
   "metadata": {},
   "outputs": [],
   "source": [
    "def fib(max_iter=4):\n",
    "    a, b = 0, 1\n",
    "    iter_num = 0\n",
    "    while 1:\n",
    "        yield a\n",
    "        a, b = b, a + b\n",
    "        iter_num += 1\n",
    "        if iter_num == max_iter:\n",
    "            break"
   ]
  },
  {
   "cell_type": "markdown",
   "metadata": {},
   "source": [
    "Вот так можно сгенерировать последовательность Фибоначчи. \n",
    "\n",
    "Заметьте, что к генераторам можно применять некоторые стандартные функции из Python, например enumerate."
   ]
  },
  {
   "cell_type": "code",
   "execution_count": 2,
   "metadata": {},
   "outputs": [
    {
     "name": "stdout",
     "output_type": "stream",
     "text": [
      "Fib num: 0 fib values: 0\n",
      "Fib num: 1 fib values: 1\n",
      "Fib num: 2 fib values: 1\n",
      "Fib num: 3 fib values: 2\n"
     ]
    }
   ],
   "source": [
    "new_generator = fib()\n",
    "for j, fib_val in enumerate(new_generator):\n",
    "    print (\"Fib num: \" + str(j) + \" fib values: \" + str(fib_val))"
   ]
  },
  {
   "cell_type": "markdown",
   "metadata": {},
   "source": [
    "Пересоздавая объект, можно сколько угодно раз генерировать заново последовательность. "
   ]
  },
  {
   "cell_type": "code",
   "execution_count": 3,
   "metadata": {},
   "outputs": [
    {
     "name": "stdout",
     "output_type": "stream",
     "text": [
      "Fib num: 0 fib values: 0\n",
      "Fib num: 1 fib values: 1\n",
      "Fib num: 2 fib values: 1\n",
      "Fib num: 3 fib values: 2\n",
      "Fib num: 0 fib values: 0\n",
      "Fib num: 1 fib values: 1\n",
      "Fib num: 2 fib values: 1\n",
      "Fib num: 3 fib values: 2\n",
      "Fib num: 0 fib values: 0\n",
      "Fib num: 1 fib values: 1\n",
      "Fib num: 2 fib values: 1\n",
      "Fib num: 3 fib values: 2\n"
     ]
    }
   ],
   "source": [
    "for i in range(0, 3):\n",
    "    new_generator = fib()\n",
    "    for j, fib_val in enumerate(new_generator):\n",
    "        print (\"Fib num: \" + str(j) + \" fib values: \" + str(fib_val))"
   ]
  },
  {
   "cell_type": "markdown",
   "metadata": {},
   "source": [
    "А вот так уже нельзя."
   ]
  },
  {
   "cell_type": "code",
   "execution_count": 4,
   "metadata": {},
   "outputs": [
    {
     "name": "stdout",
     "output_type": "stream",
     "text": [
      "Fib num: 0 fib values: 0\n",
      "Fib num: 1 fib values: 1\n",
      "Fib num: 2 fib values: 1\n",
      "Fib num: 3 fib values: 2\n"
     ]
    }
   ],
   "source": [
    "new_generator = fib()\n",
    "for i in range(0, 3):\n",
    "    for j, fib_val in enumerate(new_generator):\n",
    "        print (\"Fib num: \" + str(j) + \" fib values: \" + str(fib_val))"
   ]
  },
  {
   "cell_type": "markdown",
   "metadata": {},
   "source": [
    "Концепция крайне удобная для обучения  моделей $-$ у Вас есть некий источник данных, который Вам выдает их кусками, и Вам совершенно все равно откуда он их берет. Под ним может скрывать как массив в оперативной памяти, как файл на жестком диске, так и SQL база данных. Вы сами данные никуда не сохраняете, оперативную память экономите."
   ]
  },
  {
   "cell_type": "markdown",
   "metadata": {},
   "source": [
    "Если Вам понравилась идея с генераторами, то Вы можете реализовать свой, используя прототип batch_generator. В нем Вам нужно выдавать батчи признаков и ответов для каждой новой итерации спуска. Если не понравилась идея, то можете реализовывать SGD или mini-batch GD без генераторов."
   ]
  },
  {
   "cell_type": "code",
   "execution_count": 2,
   "metadata": {},
   "outputs": [
    {
     "name": "stdout",
     "output_type": "stream",
     "text": [
      "0 | [[1 2 3]] | [[1]]\n",
      "1 | [[1 3 2]] | [[2]]\n",
      "2 | [[2 2 2]] | [[0]]\n"
     ]
    }
   ],
   "source": [
    "import numpy as np\n",
    "\n",
    "def batch_generator(X, y, shuffle=True, batch_size=1):\n",
    "    \"\"\"\n",
    "    Гератор новых батчей для обучения\n",
    "    X          - матрица объекты-признаки\n",
    "    y_batch    - вектор ответов\n",
    "    shuffle    - нужно ли случайно перемешивать выборку\n",
    "    batch_size - размер батча ( 1 это SGD, > 1 mini-batch GD)\n",
    "    Генерирует подвыборку для итерации спуска (X_batch, y_batch)\n",
    "    \"\"\"\n",
    "    n = len(y)\n",
    "    if (shuffle == True):\n",
    "        A = np.concatenate((y.reshape(-1,1), X), axis = 1)\n",
    "        X = A[:, 1:]\n",
    "        y = A[:, [0]]\n",
    "        \n",
    "    for i in range(0, n, batch_size):\n",
    "        X_batch = X[i:i+batch_size]\n",
    "        y_batch = y[i:i+batch_size]\n",
    "        yield (X_batch, y_batch)\n",
    "\n",
    "        \n",
    "# Теперь можно сделать генератор по данным ()\n",
    "X = np.array([[1,2,3],[1,3,2],[2,2,2]])\n",
    "y = np.array([1,2,0])\n",
    "my_batch_generator = batch_generator(X, y, shuffle=True, batch_size=1)\n",
    "for batch_num, new_batch in enumerate(my_batch_generator):\n",
    "        print(batch_num, new_batch[0], new_batch[1], sep = ' | ')"
   ]
  },
  {
   "cell_type": "code",
   "execution_count": 71,
   "metadata": {},
   "outputs": [],
   "source": [
    "#%%pycodestyle\n",
    "from math import log\n",
    "from math import exp\n",
    "import numpy as np\n",
    "\n",
    "\n",
    "def sigmoid(x):\n",
    "    \"\"\"\n",
    "    Вычисляем значение сигмоида.\n",
    "    X - выход линейной модели\n",
    "    \"\"\"\n",
    "    sigm_value_x = 1/(1 + exp(-x))\n",
    "    return sigm_value_x\n",
    "\n",
    "\n",
    "from sklearn.base import BaseEstimator, ClassifierMixin\n",
    "\n",
    "class MySGDClassifier(BaseEstimator, ClassifierMixin):\n",
    "    \n",
    "    def __init__(self, batch_generator, C=1, alpha=0.01, max_epoch=10, model_type='lin_reg', Ca = 1, batch_size = 1):\n",
    "        \"\"\"\n",
    "        batch_generator -- функция генератор, которой будем создавать батчи\n",
    "        C - коэф. регуляризации\n",
    "        alpha - скорость спуска\n",
    "        max_epoch - максимальное количество эпох\n",
    "        model_type - тим модели, lin_reg или log_reg\n",
    "        \"\"\"\n",
    "        self.C = C\n",
    "        self.alpha = alpha\n",
    "        self.max_epoch = max_epoch\n",
    "        self.batch_generator = batch_generator\n",
    "        self.errors_log = {'iter' : [], 'loss' : []}  \n",
    "        self.model_type = model_type\n",
    "        self.Ca = Ca\n",
    "        self.batch_size = batch_size\n",
    "        \n",
    "    def calc_loss(self, X_batch, y_batch):\n",
    "        \"\"\"\n",
    "        Считаем функцию потерь по батчу \n",
    "        X_batch - матрица объекты-признаки по батчу\n",
    "        y_batch - вектор ответов по батчу\n",
    "        Не забудте тип модели (линейная или логистическая регрессия)!\n",
    "        \"\"\"\n",
    "        n = len(y_batch)\n",
    "        loss = 0\n",
    "        Rw = np.dot(self.weights, self.weights)\n",
    "        if (self.model_type == 'lin_reg'):\n",
    "            for i in range(n):\n",
    "                loss += (y_batch[i] - np.dot(self.weights,X_batch[i]))**2\n",
    "            loss *= 1/n\n",
    "            loss += Rw/self.C\n",
    "            #loss = np.sum((y - np.dot(X, self.weights))**2)/n + Rw/self.C\n",
    "        else:\n",
    "            for i in range(n):\n",
    "                ai = sigmoid(np.dot(self.weights, X_batch[i]))\n",
    "                loss += (y_batch[i]*log(ai) + (1-y_batch[i])*log(1-ai))\n",
    "            loss *= (-1/n)\n",
    "            loss += Rw/self.C\n",
    "        return loss\n",
    "    \n",
    "    def calc_loss_grad(self, X_batch, y_batch):\n",
    "        \"\"\"\n",
    "        Считаем  градиент функции потерь по батчу (то что Вы вывели в задании 1)\n",
    "        X_batch - матрица объекты-признаки по батчу\n",
    "        y_batch - вектор ответов по батчу\n",
    "        Не забудте тип модели (линейная или логистическая регрессия)!\n",
    "        \"\"\"\n",
    "        n = len(X_batch[0])\n",
    "        m = len(y_batch)\n",
    "        loss_grad = np.zeros(n)\n",
    "        if (self.model_type == 'lin_reg'):\n",
    "            for i in range(n):\n",
    "                loss_grad[i] = 2*self.weights[i] / self.C\n",
    "                for j in range(m):\n",
    "                    loss_grad[i] += (np.dot(X_batch[j], self.weights)-y_batch[j])*X_batch[j][i]\n",
    "                loss_grad[i] *= (2/m)    \n",
    "        else:\n",
    "            for i in range(n):\n",
    "                loss_grad[i] = 2*self.weights[i] / self.C\n",
    "                for j in range(m):\n",
    "                    ai = sigmoid(np.dot(self.weights, X_batch[j]))\n",
    "                    loss_grad[i] -= (y_batch[j] - ai)*X_batch[j][i]   \n",
    "                loss_grad[i] *= 1/m\n",
    "        return loss_grad\n",
    "    \n",
    "    def update_weights(self, new_grad):\n",
    "        \"\"\"\n",
    "        Обновляем вектор весов\n",
    "        new_grad - градиент по батчу\n",
    "        \"\"\"\n",
    "        self.weights -= self.alpha*new_grad\n",
    "    \n",
    "    def fit(self, X, y):\n",
    "        '''\n",
    "        Обучение модели\n",
    "        X - матрица объекты-признаки\n",
    "        y - вектор ответов\n",
    "        '''\n",
    "        \n",
    "        # Нужно инициализровать случайно веса\n",
    "        self.weights = np.random.random_sample((len(X[0])+1,))\n",
    "        for n in range(0, self.max_epoch):\n",
    "            new_epoch_generator = batch_generator(X, y, self.batch_size)\n",
    "            for batch_num, new_batch in enumerate(new_epoch_generator):\n",
    "                X_batch = new_batch[0]\n",
    "                y_batch = new_batch[1]\n",
    "                column = np.array([1]*len(y_batch))\n",
    "                X_batch = np.concatenate((column.reshape(-1,1), X_batch), axis = 1)\n",
    "                batch_grad = self.calc_loss_grad(X_batch, y_batch)\n",
    "                self.update_weights(batch_grad)\n",
    "                batch_loss = self.calc_loss(X_batch, y_batch)\n",
    "                self.errors_log['iter'].append(batch_num)\n",
    "                self.errors_log['loss'].append(batch_loss)\n",
    "            self.alpha *= self.Ca\n",
    "        return self\n",
    "        \n",
    "    def predict(self, X):\n",
    "        '''\n",
    "        Предсказание класса\n",
    "        X - матрица объекты-признаки\n",
    "        Не забудте тип модели (линейная или логистическая регрессия)!\n",
    "        '''\n",
    "        #y_hat = np.dot(X, self.weights)\n",
    "        y_hat = np.dot(X, self.weights[1:])\n",
    "        if (self.model_type == 'log_reg'):\n",
    "            for i in range(len(y_hat)):\n",
    "                if (y_hat[i] >= 0):\n",
    "                    y_hat[i] = 1\n",
    "                else:\n",
    "                    y_hat[i] = 0\n",
    "        # Желательно здесь использовать матричные операции между X и весами, например, numpy.dot \n",
    "        \n",
    "        return y_hat"
   ]
  },
  {
   "cell_type": "markdown",
   "metadata": {},
   "source": [
    "Запустите обе регрессии на синтетических данных. \n",
    "\n",
    "\n",
    "Выведите полученные веса и нарисуйте разделяющую границу между классами (используйте только первых два веса для первых двух признаков X[:,0], X[:,1] для отображения в 2d пространство ).  "
   ]
  },
  {
   "cell_type": "code",
   "execution_count": 4,
   "metadata": {},
   "outputs": [],
   "source": [
    "import matplotlib.pyplot as plt\n",
    "def plot_decision_boundary(clf):\n",
    "    def line(x):\n",
    "        return -(clf.weights[1]*x - clf.weights[0])/clf.weights[2]\n",
    "    if (clf.model_type == 'lin_reg'):\n",
    "        plt.plot([-5,8], [line(-5), line(8)], color='red')\n",
    "    else:\n",
    "        plt.plot([-5,8], [line(-5), line(8)], color='blue')"
   ]
  },
  {
   "cell_type": "code",
   "execution_count": 5,
   "metadata": {},
   "outputs": [
    {
     "data": {
      "text/plain": [
       "<matplotlib.collections.PathCollection at 0x7f9095869ad0>"
      ]
     },
     "execution_count": 5,
     "metadata": {},
     "output_type": "execute_result"
    },
    {
     "data": {
      "image/png": "[encoded data removed]",
      "text/plain": [
       "<Figure size 432x288 with 1 Axes>"
      ]
     },
     "metadata": {
      "needs_background": "light"
     },
     "output_type": "display_data"
    }
   ],
   "source": [
    "np.random.seed(0)\n",
    "\n",
    "C1 = np.array([[0., -0.8], [1.5, 0.8]])\n",
    "C2 = np.array([[1., -0.7], [2., 0.7]])\n",
    "gauss1 = np.dot(np.random.randn(200, 2) + np.array([5, 3]), C1)\n",
    "gauss2 = np.dot(np.random.randn(200, 2) + np.array([1.5, 0]), C2)\n",
    "\n",
    "X = np.vstack([gauss1, gauss2])\n",
    "#y = np.r_[np.ones(200), np.zeros(200)]\n",
    "y = np.r_[np.ones(200), -np.ones(200)]\n",
    "\n",
    "clf = MySGDClassifier(batch_generator, alpha = 0.009, C = 4, max_epoch = 100, model_type='lin_reg', Ca = 0.0006)\n",
    "clf.fit(X,y)\n",
    "plot_decision_boundary(clf)\n",
    "\n",
    "clf = MySGDClassifier(batch_generator, alpha = 0.05, C = 40, max_epoch = 100, model_type='log_reg', Ca = 0.99)\n",
    "clf.fit(X,y)\n",
    "plot_decision_boundary(clf)\n",
    "\n",
    "\n",
    "plt.scatter(X[:,0], X[:,1], c=y)"
   ]
  },
  {
   "cell_type": "markdown",
   "metadata": {},
   "source": [
    "Далее будем анализировать Ваш алгоритм. \n",
    "Для этих заданий используйте датасет ниже."
   ]
  },
  {
   "cell_type": "code",
   "execution_count": 16,
   "metadata": {},
   "outputs": [],
   "source": [
    "from sklearn.datasets import make_classification"
   ]
  },
  {
   "cell_type": "code",
   "execution_count": 17,
   "metadata": {},
   "outputs": [],
   "source": [
    "X, y = make_classification(n_samples=100000, n_features=10, \n",
    "                           n_informative=4, n_redundant=0, \n",
    "                           random_state=123, class_sep=1.0,\n",
    "                           n_clusters_per_class=1)"
   ]
  },
  {
   "cell_type": "markdown",
   "metadata": {},
   "source": [
    "Покажите сходимости обеих регрессией на этом датасете: изобразите график  функции потерь, усредненной по $N$ шагам градиентого спуска, для разных `alpha` (размеров шага). Разные `alpha` расположите на одном графике. \n",
    "\n",
    "$N$ можно брать 10, 50, 100 и т.д. "
   ]
  },
  {
   "cell_type": "code",
   "execution_count": 18,
   "metadata": {},
   "outputs": [
    {
     "data": {
      "image/png": "[encoded data removed]",
      "text/plain": [
       "<Figure size 432x288 with 1 Axes>"
      ]
     },
     "metadata": {
      "needs_background": "light"
     },
     "output_type": "display_data"
    }
   ],
   "source": [
    "a = [0.05, 0.005, 0.0005]\n",
    "for i in range(3):\n",
    "    clf = MySGDClassifier(batch_generator, alpha = a[i], C = 4, max_epoch = 10, \n",
    "                                model_type='lin_reg', Ca = 0.0006, batch_size = 100)\n",
    "    clf.fit(X,y)\n",
    "    arg = []\n",
    "    zn = []\n",
    "    N = 100\n",
    "    m = len(clf.errors_log['loss'])\n",
    "    for j in range(0, m, N):\n",
    "        arg.append(j+N/2)\n",
    "        zn.append(np.mean(clf.errors_log['loss'][j: j+N]))\n",
    "    plt.plot(arg, zn)"
   ]
  },
  {
   "cell_type": "markdown",
   "metadata": {},
   "source": [
    "Что Вы можете сказать про сходимость метода при различных `alpha`? Какое значение стоит выбирать для лучшей сходимости?"
   ]
  },
  {
   "cell_type": "code",
   "execution_count": 19,
   "metadata": {},
   "outputs": [
    {
     "data": {
      "image/png": "[encoded data removed]",
      "text/plain": [
       "<Figure size 432x288 with 1 Axes>"
      ]
     },
     "metadata": {
      "needs_background": "light"
     },
     "output_type": "display_data"
    }
   ],
   "source": [
    "a = [0.05, 0.005, 0.0005]\n",
    "for i in range(3):\n",
    "    clf = MySGDClassifier(batch_generator, alpha = a[i], C = 4, max_epoch = 10, \n",
    "                                model_type='log_reg', Ca = 0.0006, batch_size = 100)\n",
    "    clf.fit(X,y)\n",
    "    arg = []\n",
    "    zn = []\n",
    "    N = 100\n",
    "    m = len(clf.errors_log['loss'])\n",
    "    for j in range(0, m, N):\n",
    "        arg.append(j+N/2)\n",
    "        zn.append(np.mean(clf.errors_log['loss'][j: j+N]))\n",
    "    plt.plot(arg, zn)"
   ]
  },
  {
   "cell_type": "markdown",
   "metadata": {},
   "source": [
    "Изобразите график среднего значения весов для обеих регрессий в зависимости от коеф. регуляризации С из `np.logspace(3, -3, 10)` "
   ]
  },
  {
   "cell_type": "code",
   "execution_count": 28,
   "metadata": {},
   "outputs": [
    {
     "data": {
      "text/plain": [
       "[<matplotlib.lines.Line2D at 0x7f9091861d10>]"
      ]
     },
     "execution_count": 28,
     "metadata": {},
     "output_type": "execute_result"
    },
    {
     "data": {
      "image/png": "[encoded data removed]",
      "text/plain": [
       "<Figure size 432x288 with 1 Axes>"
      ]
     },
     "metadata": {
      "needs_background": "light"
     },
     "output_type": "display_data"
    }
   ],
   "source": [
    "coefs = np.logspace(3, -3, 10)\n",
    "zn = []\n",
    "for i in range(len(coefs)):\n",
    "    clf = MySGDClassifier(batch_generator, alpha = 0.00009, C = coefs[i], max_epoch = 10, model_type='lin_reg', Ca = 0.0006, batch_size = 100)\n",
    "    clf.fit(X,y)\n",
    "    zn.append(np.mean(clf.weights))\n",
    "plt.plot(coefs, zn)"
   ]
  },
  {
   "cell_type": "code",
   "execution_count": 29,
   "metadata": {},
   "outputs": [
    {
     "data": {
      "text/plain": [
       "[<matplotlib.lines.Line2D at 0x7f9091bdffd0>]"
      ]
     },
     "execution_count": 29,
     "metadata": {},
     "output_type": "execute_result"
    },
    {
     "data": {
      "image/png": "[encoded data removed]",
      "text/plain": [
       "<Figure size 432x288 with 1 Axes>"
      ]
     },
     "metadata": {
      "needs_background": "light"
     },
     "output_type": "display_data"
    }
   ],
   "source": [
    "coefs = np.logspace(3, -3, 10)\n",
    "zn = []\n",
    "for i in range(len(coefs)):\n",
    "    clf = MySGDClassifier(batch_generator, alpha = 0.00009, C = coefs[i], max_epoch = 10, model_type='log_reg', Ca = 0.0006, batch_size = 100)\n",
    "    clf.fit(X,y)\n",
    "    zn.append(np.mean(clf.weights))\n",
    "plt.plot(coefs, zn)"
   ]
  },
  {
   "cell_type": "markdown",
   "metadata": {},
   "source": [
    "Довольны ли Вы, насколько сильно уменьшились Ваши веса? "
   ]
  },
  {
   "cell_type": "markdown",
   "metadata": {},
   "source": [
    "# Боевое применение (4  балла)\n",
    "\n",
    "**Защита данной части возможна только при преодолении в проекте бейзлайна Handmade baseline.**"
   ]
  },
  {
   "cell_type": "markdown",
   "metadata": {},
   "source": [
    "Давайте применим модель на итоговом проекте! Датасет сделаем точно таким же образом, как было показано в project_overview.ipynb\n",
    "\n",
    "Применим обе регрессии, подберем для них параметры и сравним качество. Может быть Вы еще одновременно с решением домашней работы подрастете на лидерборде!"
   ]
  },
  {
   "cell_type": "code",
   "execution_count": 122,
   "metadata": {},
   "outputs": [
    {
     "name": "stdout",
     "output_type": "stream",
     "text": [
      "28026\n"
     ]
    }
   ],
   "source": [
    "doc_to_title = {}\n",
    "with open('docs_titles.tsv') as f:\n",
    "    for num_line, line in enumerate(f):\n",
    "        if num_line == 0:\n",
    "            continue\n",
    "        data = line.strip().split('\\t', 1)\n",
    "        doc_id = int(data[0])\n",
    "        if len(data) == 1:\n",
    "            title = ''\n",
    "        else:\n",
    "            title = data[1]\n",
    "        doc_to_title[doc_id] = title\n",
    "print (len(doc_to_title))\n"
   ]
  },
  {
   "cell_type": "code",
   "execution_count": 123,
   "metadata": {},
   "outputs": [],
   "source": [
    "import pandas as pd\n",
    "train_data = pd.read_csv('./train_groups.csv')\n",
    "traingroups_titledata = {}\n",
    "for i in range(len(train_data)):\n",
    "    new_doc = train_data.iloc[i]\n",
    "    doc_group = new_doc['group_id']\n",
    "    doc_id = new_doc['doc_id']\n",
    "    target = new_doc['target']\n",
    "    title = doc_to_title[doc_id]\n",
    "    if doc_group not in traingroups_titledata:\n",
    "        traingroups_titledata[doc_group] = []\n",
    "    traingroups_titledata[doc_group].append((doc_id, title, target))"
   ]
  },
  {
   "cell_type": "code",
   "execution_count": 124,
   "metadata": {},
   "outputs": [
    {
     "name": "stdout",
     "output_type": "stream",
     "text": [
      "(11690, 30) (11690,) (11690,)\n"
     ]
    }
   ],
   "source": [
    "import numpy as np\n",
    "import re\n",
    "import pymorphy2 as pym2\n",
    "\n",
    "# функция для проверки соответствия слова какой-либо информативной единице\n",
    "def pass_pattern(s):\n",
    "    x = re.findall(r'[a-zа-я0-9]*\\b', s)\n",
    "    if x:\n",
    "        return x[0] == s\n",
    "    return False\n",
    "\n",
    "y_train = []\n",
    "X_train = []\n",
    "groups_train = []\n",
    "words_list = {}\n",
    "\n",
    "#используем морфологический анализатор\n",
    "MAnalyzer = pym2.MorphAnalyzer()\n",
    "\n",
    "# множество словарь слов с их количеством в тектсе\n",
    "multi_map = {}\n",
    "\n",
    "# идем по всем группам и считаем сколько каких слов встречается во всех заголовках\n",
    "# данные слова должны быть приведены к нормальной форме\n",
    "for new_group in traingroups_titledata:\n",
    "    docs = traingroups_titledata[new_group]\n",
    "    for k, (doc_id, title, target_id) in enumerate(docs):\n",
    "        words = set([MAnalyzer.normal_forms(x.lower().strip('.,?:!-()\";*\"'))[0]\n",
    "                     if pass_pattern(x.lower().strip('.,?:!()\";*\"')) else ''\n",
    "                     for x in title.strip().split()])\n",
    "        if '' in words:\n",
    "            words.remove('')\n",
    "        words_list[doc_id] = words.copy()\n",
    "        for x in words:\n",
    "            if not x in multi_map:\n",
    "                multi_map[x] = 1\n",
    "            else:\n",
    "                multi_map[x] += 1\n",
    "\n",
    "# выбираем количество наиболее часто встречающихся слов, которые не являются информативными единицами\n",
    "# выводим наиболее часто встречающиеся слова в выборке тайтлов\n",
    "MAX_SPEC_WORDS = 11\n",
    "popular_words_lst = list(multi_map.items())\n",
    "popular_words_lst.sort(key=lambda x: x[1], reverse=True)\n",
    "#print(*popular_words_lst[:3 * MAX_SPEC_WORDS], sep='\\n')\n",
    "\n",
    "# добавляем еще несколько неинформативных единиц, которые не являются достаточно популярными, \n",
    "# чтобы попасть в топ-MAX_SPEC_WORDS\n",
    "spec_words = {'о', 'из'}\n",
    "for i in popular_words_lst[:MAX_SPEC_WORDS]:\n",
    "    spec_words.add(i[0])\n",
    "#print(spec_words)\n",
    "\n",
    "#print('popular -- ok')\n",
    "\n",
    "max_features = 30 # количество фичей для каждого тайтла в обучающей выборке\n",
    "cnt = 1           # номер текущей группы \n",
    "for new_group in traingroups_titledata:\n",
    "    docs = traingroups_titledata[new_group]\n",
    "    for k, (doc_id, title, target_id) in enumerate(docs):\n",
    "        groups_train.append(new_group)\n",
    "        all_dist = []\n",
    "        # приводим слова к нормальной форме и помещаем их в сет\n",
    "        words = words_list[doc_id].copy()\n",
    "        for j in range(0, len(docs)):\n",
    "            if k == j:\n",
    "                continue\n",
    "            doc_id_j, title_j, target_j = docs[j]\n",
    "            # приводим слова к нормальной форме и помещаем их в сет\n",
    "            words_j = words_list[doc_id_j].copy()\n",
    "            all_dist.append(len(words.intersection(words_j)))\n",
    "        # если количество фичей недостаточно большое, то добавляем фиктивные (запонляем их нулями) \n",
    "        if len(all_dist) < max_features:\n",
    "            all_dist.extend([0] * (max_features - len(all_dist)))\n",
    "        X_train.append(sorted(all_dist, reverse=True)[0:max_features])\n",
    "        y_train.append(target_id)\n",
    "    #print(\"{} -- ok\".format(cnt))\n",
    "    cnt += 1\n",
    "\n",
    "X_train = np.array(X_train)\n",
    "y_train = np.array(y_train)\n",
    "groups_train = np.array(groups_train)\n",
    "print (X_train.shape, y_train.shape, groups_train.shape)"
   ]
  },
  {
   "cell_type": "markdown",
   "metadata": {},
   "source": [
    "Подберите размер батча для обучения. Линейная модель не должна учиться дольше нескольких минут. \n",
    "\n",
    "Не забывайте использовать скейлер!"
   ]
  },
  {
   "cell_type": "code",
   "execution_count": 125,
   "metadata": {},
   "outputs": [],
   "source": [
    "from sklearn.metrics import f1_score\n",
    "from sklearn.linear_model import LinearRegression\n",
    "from sklearn.preprocessing import StandardScaler"
   ]
  },
  {
   "cell_type": "code",
   "execution_count": 142,
   "metadata": {},
   "outputs": [],
   "source": [
    "clf = MySGDClassifier(batch_generator, alpha = 0.9, C = 100, max_epoch = 1, model_type='lin_reg', Ca = 0.09, batch_size=15)"
   ]
  },
  {
   "cell_type": "markdown",
   "metadata": {},
   "source": [
    "Разбейте данные на обучение и валидацию. Подберите параметры C, alpha, max_epoch, model_type на валидации (Вы же помните, как правильно в этой задаче делать валидацию?)"
   ]
  },
  {
   "cell_type": "code",
   "execution_count": 143,
   "metadata": {},
   "outputs": [],
   "source": [
    "from sklearn.model_selection import train_test_split\n",
    "from sklearn.metrics import f1_score\n",
    "\n",
    "X_subtrain, X_validation, y_subtrain, y_validation = train_test_split(X_train, y_train, test_size = 0.3)"
   ]
  },
  {
   "cell_type": "code",
   "execution_count": 145,
   "metadata": {},
   "outputs": [
    {
     "data": {
      "text/plain": [
       "MySGDClassifier(C=100, Ca=0.09, alpha=2.5418658283289986e-13,\n",
       "                batch_generator=<function batch_generator at 0x7f28f92fa7a0>,\n",
       "                batch_size=15, max_epoch=6)"
      ]
     },
     "execution_count": 145,
     "metadata": {},
     "output_type": "execute_result"
    }
   ],
   "source": [
    "clf.fit(X_subtrain, y_subtrain)"
   ]
  },
  {
   "cell_type": "markdown",
   "metadata": {
    "collapsed": true
   },
   "source": [
    "Подберите порог линейной модели, по достижении которого, Вы будете относить объект к классу 1. Вспомните, какую метрику мы оптимизируем в соревновании.  Как тогда правильно подобрать порог?"
   ]
  },
  {
   "cell_type": "code",
   "execution_count": 146,
   "metadata": {},
   "outputs": [
    {
     "data": {
      "text/plain": [
       "0.540446506233691"
      ]
     },
     "execution_count": 146,
     "metadata": {},
     "output_type": "execute_result"
    }
   ],
   "source": [
    "y_validation_predict = clf.predict(X_validation)\n",
    "for i in range(len(y_validation_predict)):\n",
    "    if (y_validation_predict[i] > 0.5):\n",
    "        y_validation_predict[i] = 1\n",
    "    else:\n",
    "        y_validation_predict[i] = 0\n",
    "y_validation_predict = np.array(y_validation_predict, dtype=int)\n",
    "f1_score(y_validation, y_validation_predict)"
   ]
  },
  {
   "cell_type": "code",
   "execution_count": 59,
   "metadata": {},
   "outputs": [
    {
     "name": "stderr",
     "output_type": "stream",
     "text": [
      "/home/roman/miniconda3/envs/sphere-py37/lib/python3.7/site-packages/ipykernel_launcher.py:49: RuntimeWarning: overflow encountered in double_scalars\n",
      "/home/roman/miniconda3/envs/sphere-py37/lib/python3.7/site-packages/ipykernel_launcher.py:76: RuntimeWarning: overflow encountered in double_scalars\n",
      "/home/roman/miniconda3/envs/sphere-py37/lib/python3.7/site-packages/ipykernel_launcher.py:91: RuntimeWarning: invalid value encountered in subtract\n",
      "/home/roman/miniconda3/envs/sphere-py37/lib/python3.7/site-packages/ipykernel_launcher.py:75: RuntimeWarning: overflow encountered in double_scalars\n"
     ]
    },
    {
     "data": {
      "text/plain": [
       "[<matplotlib.lines.Line2D at 0x7f28de326810>]"
      ]
     },
     "execution_count": 59,
     "metadata": {},
     "output_type": "execute_result"
    },
    {
     "data": {
      "image/png": "[encoded data removed]",
      "text/plain": [
       "<Figure size 864x360 with 1 Axes>"
      ]
     },
     "metadata": {},
     "output_type": "display_data"
    }
   ],
   "source": [
    "coefs = np.linspace(0.1, 1, 10)\n",
    "res = []\n",
    "for coef in coefs:\n",
    "    X_subtrain, X_validation, y_subtrain, y_validation = train_test_split(X_train, y_train, test_size = 0.3)\n",
    "    clf = MySGDClassifier(batch_generator, alpha = coef, C = 100, max_epoch = 2, model_type='lin_reg', Ca = 0.009, batch_size=15)\n",
    "    clf.fit(X_subtrain, y_subtrain)\n",
    "    clf.fit(X_subtrain, y_subtrain)\n",
    "    y_validation_predict = clf.predict(X_validation)\n",
    "    for i in range(len(y_validation_predict)):\n",
    "        if (y_validation_predict[i] > 0.5):\n",
    "            y_validation_predict[i] = 1\n",
    "        else:\n",
    "            y_validation_predict[i] = 0\n",
    "    y_validation_predict = np.array(y_validation_predict, dtype=int)\n",
    "    res.append(f1_score(y_validation, y_validation_predict))\n",
    "plt.plot(coefs, res)"
   ]
  },
  {
   "cell_type": "code",
   "execution_count": 60,
   "metadata": {},
   "outputs": [
    {
     "name": "stderr",
     "output_type": "stream",
     "text": [
      "/home/roman/miniconda3/envs/sphere-py37/lib/python3.7/site-packages/ipykernel_launcher.py:49: RuntimeWarning: overflow encountered in double_scalars\n",
      "/home/roman/miniconda3/envs/sphere-py37/lib/python3.7/site-packages/ipykernel_launcher.py:73: RuntimeWarning: overflow encountered in double_scalars\n",
      "/home/roman/miniconda3/envs/sphere-py37/lib/python3.7/site-packages/ipykernel_launcher.py:76: RuntimeWarning: overflow encountered in double_scalars\n",
      "/home/roman/miniconda3/envs/sphere-py37/lib/python3.7/site-packages/ipykernel_launcher.py:75: RuntimeWarning: overflow encountered in double_scalars\n",
      "/home/roman/miniconda3/envs/sphere-py37/lib/python3.7/site-packages/ipykernel_launcher.py:91: RuntimeWarning: invalid value encountered in subtract\n",
      "/home/roman/miniconda3/envs/sphere-py37/lib/python3.7/site-packages/ipykernel_launcher.py:75: RuntimeWarning: invalid value encountered in double_scalars\n"
     ]
    },
    {
     "data": {
      "text/plain": [
       "[<matplotlib.lines.Line2D at 0x7f28dd957a90>]"
      ]
     },
     "execution_count": 60,
     "metadata": {},
     "output_type": "execute_result"
    },
    {
     "data": {
      "image/png": "[encoded data removed]",
      "text/plain": [
       "<Figure size 864x360 with 1 Axes>"
      ]
     },
     "metadata": {},
     "output_type": "display_data"
    }
   ],
   "source": [
    "coefs = np.arange(50, 500, 50)\n",
    "res = []\n",
    "for coef in coefs:\n",
    "    X_subtrain, X_validation, y_subtrain, y_validation = train_test_split(X_train, y_train, test_size = 0.3)\n",
    "    clf = MySGDClassifier(batch_generator, alpha = 0.9, C = coef, max_epoch = 2, model_type='lin_reg', Ca = 0.009, batch_size=15)\n",
    "    clf.fit(X_subtrain, y_subtrain)\n",
    "    clf.fit(X_subtrain, y_subtrain)\n",
    "    y_validation_predict = clf.predict(X_validation)\n",
    "    for i in range(len(y_validation_predict)):\n",
    "        if (y_validation_predict[i] > 0.5):\n",
    "            y_validation_predict[i] = 1\n",
    "        else:\n",
    "            y_validation_predict[i] = 0\n",
    "    y_validation_predict = np.array(y_validation_predict, dtype=int)\n",
    "    res.append(f1_score(y_validation, y_validation_predict))\n",
    "plt.plot(coefs, res)"
   ]
  },
  {
   "cell_type": "code",
   "execution_count": 61,
   "metadata": {},
   "outputs": [
    {
     "name": "stderr",
     "output_type": "stream",
     "text": [
      "/home/roman/miniconda3/envs/sphere-py37/lib/python3.7/site-packages/ipykernel_launcher.py:49: RuntimeWarning: overflow encountered in double_scalars\n",
      "/home/roman/miniconda3/envs/sphere-py37/lib/python3.7/site-packages/ipykernel_launcher.py:91: RuntimeWarning: invalid value encountered in subtract\n",
      "/home/roman/miniconda3/envs/sphere-py37/lib/python3.7/site-packages/ipykernel_launcher.py:75: RuntimeWarning: overflow encountered in double_scalars\n",
      "/home/roman/miniconda3/envs/sphere-py37/lib/python3.7/site-packages/ipykernel_launcher.py:76: RuntimeWarning: overflow encountered in double_scalars\n",
      "/home/roman/miniconda3/envs/sphere-py37/lib/python3.7/site-packages/ipykernel_launcher.py:73: RuntimeWarning: overflow encountered in double_scalars\n"
     ]
    },
    {
     "data": {
      "text/plain": [
       "[<matplotlib.lines.Line2D at 0x7f28dca69590>]"
      ]
     },
     "execution_count": 61,
     "metadata": {},
     "output_type": "execute_result"
    },
    {
     "data": {
      "image/png": "[encoded data removed]",
      "text/plain": [
       "<Figure size 864x360 with 1 Axes>"
      ]
     },
     "metadata": {},
     "output_type": "display_data"
    }
   ],
   "source": [
    "coefs = np.arange(1, 20, 5)\n",
    "res = []\n",
    "for coef in coefs:\n",
    "    X_subtrain, X_validation, y_subtrain, y_validation = train_test_split(X_train, y_train, test_size = 0.3)\n",
    "    clf = MySGDClassifier(batch_generator, alpha = 0.9, C = 300, max_epoch = coef, model_type='lin_reg', Ca = 0.009, batch_size=15)\n",
    "    clf.fit(X_subtrain, y_subtrain)\n",
    "    clf.fit(X_subtrain, y_subtrain)\n",
    "    y_validation_predict = clf.predict(X_validation)\n",
    "    for i in range(len(y_validation_predict)):\n",
    "        if (y_validation_predict[i] > 0.5):\n",
    "            y_validation_predict[i] = 1\n",
    "        else:\n",
    "            y_validation_predict[i] = 0\n",
    "    y_validation_predict = np.array(y_validation_predict, dtype=int)\n",
    "    res.append(f1_score(y_validation, y_validation_predict))\n",
    "plt.plot(coefs, res)"
   ]
  },
  {
   "cell_type": "code",
   "execution_count": 205,
   "metadata": {},
   "outputs": [],
   "source": [
    "clf = MySGDClassifier(batch_generator, alpha = 0.9, C = 450, max_epoch = 5, model_type='lin_reg', Ca = 0.09, batch_size = 15)\n",
    "X_subtrain, X_validation, y_subtrain, y_validation = train_test_split(X_train, y_train, test_size = 0.3)"
   ]
  },
  {
   "cell_type": "code",
   "execution_count": 207,
   "metadata": {},
   "outputs": [
    {
     "data": {
      "text/plain": [
       "MySGDClassifier(C=450, Ca=0.09, alpha=3.138105960899999e-11,\n",
       "                batch_generator=<function batch_generator at 0x7f28f92fa7a0>,\n",
       "                batch_size=15, max_epoch=5)"
      ]
     },
     "execution_count": 207,
     "metadata": {},
     "output_type": "execute_result"
    }
   ],
   "source": [
    "clf.fit(X_subtrain, y_subtrain)"
   ]
  },
  {
   "cell_type": "code",
   "execution_count": 217,
   "metadata": {},
   "outputs": [
    {
     "data": {
      "text/plain": [
       "0.5495447241564007"
      ]
     },
     "execution_count": 217,
     "metadata": {},
     "output_type": "execute_result"
    }
   ],
   "source": [
    "y_validation_predict = clf.predict(X_validation)\n",
    "for i in range(len(y_validation_predict)):\n",
    "    if (y_validation_predict[i] > 0.4):\n",
    "        y_validation_predict[i] = 1\n",
    "    else:\n",
    "        y_validation_predict[i] = 0\n",
    "y_validation_predict = np.array(y_validation_predict, dtype=int)\n",
    "f1_score(y_validation, y_validation_predict)"
   ]
  },
  {
   "cell_type": "markdown",
   "metadata": {},
   "source": [
    "С лучшими параметрами на валидации сделайте предсказание на тестовом множестве, отправьте его на проверку на платформу kaggle. Убедитесь, что Вы смогли побить public score первого бейзлайна."
   ]
  },
  {
   "cell_type": "code",
   "execution_count": 221,
   "metadata": {},
   "outputs": [],
   "source": [
    "test_data = pd.read_csv('test_groups.csv')\n",
    "\n",
    "testgroups_titledata = {}\n",
    "for i in range(len(test_data)):\n",
    "    new_doc = test_data.iloc[i]\n",
    "    doc_group = new_doc['group_id']\n",
    "    doc_id = new_doc['doc_id']\n",
    "    title = doc_to_title[doc_id]\n",
    "    if doc_group not in testgroups_titledata:\n",
    "        testgroups_titledata[doc_group] = []\n",
    "    testgroups_titledata[doc_group].append((doc_id, title))\n",
    "\n",
    "def pass_pattern(s):\n",
    "    x = re.findall(r'[a-zа-я0-9]*\\b', s)\n",
    "    if x:\n",
    "        return x[0] == s\n",
    "    return False\n",
    "    \n",
    "# анализатор слов\n",
    "MAnalyzer = pym2.MorphAnalyzer()\n",
    "\n",
    "# множество словарь слов с их количеством в тектсе\n",
    "multi_map = {}\n",
    "\n",
    "words_list = {}\n",
    "\n",
    "for new_group in testgroups_titledata:\n",
    "    docs = testgroups_titledata[new_group]\n",
    "    for k, (doc_id, title) in enumerate(docs):\n",
    "        words = set([MAnalyzer.normal_forms(x.lower().strip('.,?:!-()\";*\"'))[0]\n",
    "                     if pass_pattern(x.lower().strip('.,?:!()\";*\"')) else ''\n",
    "                     for x in title.strip().split()])\n",
    "        if '' in words:\n",
    "            words.remove('')\n",
    "        words_list[doc_id] = words.copy()\n",
    "        for x in words:\n",
    "            if not x in multi_map:\n",
    "                multi_map[x] = 1\n",
    "            else:\n",
    "                multi_map[x] += 1\n",
    "\n",
    "# выбираем количество наиболее часто встречающихся слов, которые не являются информативными единицами\n",
    "# выводим наиболее часто встречающиеся слова в выборке тайтлов\n",
    "MAX_SPEC_WORDS = 11\n",
    "popular_words_lst = list(multi_map.items())\n",
    "popular_words_lst.sort(key=lambda x: x[1], reverse=True)\n",
    "\n",
    "# добавляем еще несколько неинформативных единиц, которые не являются достаточно популярными, \n",
    "# чтобы попасть в топ-MAX_SPEC_WORDS\n",
    "spec_words = {'от', 'из', 'к', 'за'}\n",
    "for i in popular_words_lst[:MAX_SPEC_WORDS]:\n",
    "    spec_words.add(i[0])\n",
    "\n",
    "max_features = 30\n",
    "X_test = []\n",
    "groups_test = []\n",
    "cnt = 1\n",
    "for new_group in testgroups_titledata:\n",
    "    docs = testgroups_titledata[new_group]\n",
    "    for k, (doc_id, title) in enumerate(docs):\n",
    "        groups_test.append(new_group)\n",
    "        all_dist = []\n",
    "        # приводим слова к нормальной форме и помещаем их в сет\n",
    "        words = words_list[doc_id].copy()\n",
    "        for j in range(0, len(docs)):\n",
    "            if k == j:\n",
    "                continue\n",
    "            doc_id_j, title_j = docs[j]\n",
    "            words_j = words_list[doc_id_j].copy()\n",
    "            all_dist.append(len(words.intersection(words_j)))\n",
    "\n",
    "        if len(all_dist) < max_features:\n",
    "            all_dist.extend([0] * (max_features - len(all_dist)))\n",
    "        X_test.append(sorted(all_dist, reverse=True)[0:max_features])\n",
    "    cnt += 1\n",
    "X_test = np.array(X_test)\n",
    "groups_test = np.array(groups_test)"
   ]
  },
  {
   "cell_type": "code",
   "execution_count": 222,
   "metadata": {},
   "outputs": [],
   "source": [
    "y_pred = clf.predict(X_test)"
   ]
  },
  {
   "cell_type": "code",
   "execution_count": 223,
   "metadata": {},
   "outputs": [],
   "source": [
    "for i in range(len(y_pred)):\n",
    "    if (y_pred[i] > 0.4):\n",
    "        y_pred[i] = 1\n",
    "    else:\n",
    "        y_pred[i] = 0\n",
    "y_pred = np.array(y_pred, dtype=int)"
   ]
  },
  {
   "cell_type": "code",
   "execution_count": 224,
   "metadata": {},
   "outputs": [],
   "source": [
    "#добавляем столбец target\n",
    "test_data['target'] = y_pred\n",
    "\n",
    "#удаляем ненужные столбцы\n",
    "test_data.drop(['group_id', 'doc_id'], axis='columns', inplace=True)\n",
    "\n",
    "#сохраняем наш датафрейм в файл, который загружаем в kaggle\n",
    "test_data.to_csv('result.csv', index=False)"
   ]
  },
  {
   "cell_type": "markdown",
   "metadata": {
    "collapsed": true
   },
   "source": [
    "** При сдаче домашки Вам необходимо кроме ссылки на ноутбук показать Ваш ник на kaggle, под которым Вы залили решение, которое побило Handmade baseline. **"
   ]
  },
  {
   "cell_type": "markdown",
   "metadata": {
    "collapsed": true
   },
   "source": [
    "rkaspr"
   ]
  },
  {
   "cell_type": "markdown",
   "metadata": {},
   "source": [
    "# Фидбек (бесценно)"
   ]
  },
  {
   "cell_type": "markdown",
   "metadata": {},
   "source": [
    "* Какие аспекты обучения линейных моделей Вам показались непонятными? Какое место стоит дополнительно объяснить?"
   ]
  },
  {
   "cell_type": "markdown",
   "metadata": {},
   "source": [
    "***Ваше ответ здесь***"
   ]
  },
  {
   "cell_type": "markdown",
   "metadata": {},
   "source": [
    "* Здесь Вы можете оставить отзыв о этой домашней работе или о всем курсе.   "
   ]
  },
  {
   "cell_type": "markdown",
   "metadata": {},
   "source": [
    "*** ВАШ ОТЗЫВ ЗДЕСЬ***"
   ]
  },
  {
   "cell_type": "code",
   "execution_count": null,
   "metadata": {},
   "outputs": [],
   "source": []
  }
 ],
 "metadata": {
  "anaconda-cloud": {},
  "kernelspec": {
   "display_name": "Python 3",
   "language": "python",
   "name": "python3"
  },
  "language_info": {
   "codemirror_mode": {
    "name": "ipython",
    "version": 3
   },
   "file_extension": ".py",
   "mimetype": "text/x-python",
   "name": "python",
   "nbconvert_exporter": "python",
   "pygments_lexer": "ipython3",
   "version": "3.7.9"
  },
  "nav_menu": {},
  "toc": {
   "colors": {
    "hover_highlight": "#DAA520",
    "navigate_num": "#000000",
    "navigate_text": "#333333",
    "running_highlight": "#FF0000",
    "selected_highlight": "#FFD700",
    "sidebar_border": "#EEEEEE",
    "wrapper_background": "#FFFFFF"
   },
   "moveMenuLeft": true,
   "nav_menu": {
    "height": "402px",
    "width": "253px"
   },
   "navigate_menu": true,
   "number_sections": false,
   "sideBar": true,
   "threshold": 4,
   "toc_cell": false,
   "toc_section_display": "block",
   "toc_window_display": true,
   "widenNotebook": false
  }
 },
 "nbformat": 4,
 "nbformat_minor": 2
}
